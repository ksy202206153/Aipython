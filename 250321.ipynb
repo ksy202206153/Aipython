{
 "cells": [
  {
   "cell_type": "code",
   "execution_count": 1,
   "id": "20e856b3-3110-4ef2-8ca0-1238ccd9aac0",
   "metadata": {},
   "outputs": [
    {
     "name": "stdin",
     "output_type": "stream",
     "text": [
      "나이를 입력하세요: 1\n"
     ]
    },
    {
     "name": "stdout",
     "output_type": "stream",
     "text": [
      "당신은 내년에 2 살입니다.\n"
     ]
    }
   ],
   "source": [
    "age = input(\"나이를 입력하세요:\")\n",
    "age = int(age)\n",
    "print(\"당신은 내년에\", age+1, \"살입니다.\")"
   ]
  },
  {
   "cell_type": "code",
   "execution_count": 2,
   "id": "479b9ba9-a307-4eae-94d1-365096e2a38c",
   "metadata": {},
   "outputs": [
    {
     "name": "stdin",
     "output_type": "stream",
     "text": [
      "나이를 입력하세요: 2\n"
     ]
    },
    {
     "name": "stdout",
     "output_type": "stream",
     "text": [
      "당신은 내년에 3 살입니다.\n"
     ]
    }
   ],
   "source": [
    "age = input(\"나이를 입력하세요:\")\n",
    "age = int(age)\n",
    "age = age+1\n",
    "print(\"당신은 내년에\", age, \"살입니다.\")"
   ]
  },
  {
   "cell_type": "code",
   "execution_count": 3,
   "id": "f299e82a-448a-4563-a403-1ab4d8f01830",
   "metadata": {},
   "outputs": [
    {
     "name": "stdin",
     "output_type": "stream",
     "text": [
      "나이를 입력하세요: 22\n"
     ]
    },
    {
     "name": "stdout",
     "output_type": "stream",
     "text": [
      "당신은 내년에 23.0 살입니다.\n"
     ]
    }
   ],
   "source": [
    "age = input(\"나이를 입력하세요:\")\n",
    "age = float(age)\n",
    "age = age+1\n",
    "print(\"당신은 내년에\", age, \"살입니다.\")"
   ]
  },
  {
   "cell_type": "code",
   "execution_count": 4,
   "id": "484241d1-2b55-4e1b-8fcf-e77d19d8be31",
   "metadata": {},
   "outputs": [
    {
     "name": "stdin",
     "output_type": "stream",
     "text": [
      "나이를 입력하세요 2\n"
     ]
    },
    {
     "name": "stdout",
     "output_type": "stream",
     "text": [
      "당신은 내년에 3 살입니다.\n"
     ]
    }
   ],
   "source": [
    "age = int(input(\"나이를 입력하세요\"))\n",
    "age = age +1\n",
    "print(\"당신은 내년에\",age,\"살입니다.\")"
   ]
  },
  {
   "cell_type": "code",
   "execution_count": null,
   "id": "636d2526-d384-4897-b90b-0f1cf312ecd3",
   "metadata": {},
   "outputs": [],
   "source": [
    "age =int(input(\"나이를 입력하세요\"))\n",
    "print(str(age) + \"살입니다.\")"
   ]
  },
  {
   "cell_type": "code",
   "execution_count": 5,
   "id": "82554663-36f9-4b59-9e29-866ffcaa8b67",
   "metadata": {},
   "outputs": [
    {
     "name": "stdout",
     "output_type": "stream",
     "text": [
      "좋아요, 합격입니다!\n"
     ]
    }
   ],
   "source": [
    "score = 78\n",
    "if score > 90:\n",
    " print(\"정말 잘했어요!\")\n",
    "elif score >= 60:\n",
    " print(\"좋아요, 합격입니다!\")\n",
    "else:\n",
    " print(\"다음에 더 잘해봐요!\")"
   ]
  },
  {
   "cell_type": "code",
   "execution_count": 6,
   "id": "52ee64fc-5589-4222-8d5f-ad80d354f379",
   "metadata": {},
   "outputs": [
    {
     "name": "stdin",
     "output_type": "stream",
     "text": [
      "점수를 입력하세요 36\n"
     ]
    },
    {
     "name": "stdout",
     "output_type": "stream",
     "text": [
      "다음에 더 잘해봐요!\n"
     ]
    }
   ],
   "source": [
    "score = int(input(\"점수를 입력하세요\"))\n",
    "if score > 90:\n",
    " print(\"정말 잘했어요!\")\n",
    "elif score >= 60:\n",
    " print(\"좋아요, 합격입니다!\")\n",
    "else:\n",
    " print(\"다음에 더 잘해봐요!\")"
   ]
  },
  {
   "cell_type": "code",
   "execution_count": 7,
   "id": "6b9ca9f4-be05-4c94-a948-428f3482faba",
   "metadata": {},
   "outputs": [
    {
     "name": "stdin",
     "output_type": "stream",
     "text": [
      "숫자를 입력하세요 2\n"
     ]
    },
    {
     "name": "stdout",
     "output_type": "stream",
     "text": [
      "양수입니다\n"
     ]
    }
   ],
   "source": [
    "nub = int(input(\"숫자를 입력하세요\"))\n",
    "if nub>0:\n",
    " print(\"양수입니다\")\n",
    "elif nub == 0:\n",
    " print(\"0입니다\")\n",
    "else :\n",
    " print(\"음수입니다\")"
   ]
  },
  {
   "cell_type": "code",
   "execution_count": 8,
   "id": "10d35af5-1816-4b89-9220-82ab2be6e7bb",
   "metadata": {},
   "outputs": [
    {
     "name": "stdin",
     "output_type": "stream",
     "text": [
      "숫자를 입력하세요 3\n"
     ]
    },
    {
     "name": "stdout",
     "output_type": "stream",
     "text": [
      "홀수\n"
     ]
    }
   ],
   "source": [
    "nub = int(input(\"숫자를 입력하세요\"))\n",
    "nub1 = nub%2\n",
    "if nub1 == 0:\n",
    " print(\"짝수\")\n",
    "else:\n",
    "    print(\"홀수\")"
   ]
  },
  {
   "cell_type": "code",
   "execution_count": 10,
   "id": "0b5f4f9b-9cd2-4812-a463-42252653a03a",
   "metadata": {},
   "outputs": [
    {
     "name": "stdin",
     "output_type": "stream",
     "text": [
      " 2 3\n"
     ]
    },
    {
     "name": "stdout",
     "output_type": "stream",
     "text": [
      "B승A패\n"
     ]
    }
   ],
   "source": [
    "a,b = map(int,input().split())\n",
    "if a not in [1, 2, 3] or b not in [1, 2, 3]:\n",
    "    print(\"잘못된 입력\")\n",
    "elif a==b :\n",
    "    print(\"무승부\")\n",
    "elif (a==1 and  b==3) or (a==2 and b==1) or (a==3 and b==2) :\n",
    "    print(\"A승B패\")\n",
    "else :\n",
    "    print(\"B승A패\")"
   ]
  },
  {
   "cell_type": "code",
   "execution_count": null,
   "id": "1fc9ac62-89d7-4af1-b9d6-5914ba2e7414",
   "metadata": {},
   "outputs": [],
   "source": []
  }
 ],
 "metadata": {
  "kernelspec": {
   "display_name": "Python 3 (ipykernel)",
   "language": "python",
   "name": "python3"
  },
  "language_info": {
   "codemirror_mode": {
    "name": "ipython",
    "version": 3
   },
   "file_extension": ".py",
   "mimetype": "text/x-python",
   "name": "python",
   "nbconvert_exporter": "python",
   "pygments_lexer": "ipython3",
   "version": "3.12.6"
  }
 },
 "nbformat": 4,
 "nbformat_minor": 5
}
