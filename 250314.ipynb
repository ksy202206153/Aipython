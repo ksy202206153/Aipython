{
  "nbformat": 4,
  "nbformat_minor": 0,
  "metadata": {
    "colab": {
      "provenance": []
    },
    "kernelspec": {
      "name": "python3",
      "display_name": "Python 3"
    },
    "language_info": {
      "name": "python"
    }
  },
  "cells": [
    {
      "cell_type": "code",
      "execution_count": 42,
      "metadata": {
        "colab": {
          "base_uri": "https://localhost:8080/"
        },
        "id": "f7BIgtMNdRqb",
        "outputId": "3290d208-002c-4ba8-867b-98225a0288a3"
      },
      "outputs": [
        {
          "output_type": "stream",
          "name": "stdout",
          "text": [
            "반지름이 5인 원의 면적은 78.5398입니다.\n"
          ]
        }
      ],
      "source": [
        "#반지름이 5인 원의 면적을 구하시오\n",
        "#파이 값은 3.141592로 계산합니다\n",
        "r=5\n",
        "pi=3.141592\n",
        "area = pi*r*r\n",
        "\n",
        "print(f\"반지름이 {r}인 원의 면적은 {area} 입니다.\")\n"
      ]
    },
    {
      "cell_type": "code",
      "source": [
        "#분(정수)을 시간과 분으로 변환하여 출력하시오\n",
        "#<출력예시> 100분은 1시간 40분입니다\n",
        "minute=100\n",
        "hour=minute//60\n",
        "minute1=minute%60\n",
        "\n",
        "print(f\"{minute}분은 {hour}시간 {minute1}분 입니다.\")\n"
      ],
      "metadata": {
        "colab": {
          "base_uri": "https://localhost:8080/"
        },
        "id": "Mg2UpryJdj8N",
        "outputId": "0f2509c0-db0b-4754-f75a-8e43c5e8df61"
      },
      "execution_count": 41,
      "outputs": [
        {
          "output_type": "stream",
          "name": "stdout",
          "text": [
            "100분은 1시간 40분 입니다.\n"
          ]
        }
      ]
    },
    {
      "cell_type": "code",
      "source": [],
      "metadata": {
        "id": "rwONcIFoer-k"
      },
      "execution_count": null,
      "outputs": []
    }
  ]
}