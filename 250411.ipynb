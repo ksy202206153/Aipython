{
  "nbformat": 4,
  "nbformat_minor": 0,
  "metadata": {
    "colab": {
      "provenance": [],
      "authorship_tag": "ABX9TyPNs14RJMWBGlWQfybdSuyp",
      "include_colab_link": true
    },
    "kernelspec": {
      "name": "python3",
      "display_name": "Python 3"
    },
    "language_info": {
      "name": "python"
    }
  },
  "cells": [
    {
      "cell_type": "markdown",
      "metadata": {
        "id": "view-in-github",
        "colab_type": "text"
      },
      "source": [
        "<a href=\"https://colab.research.google.com/github/ksy202206153/Aipython/blob/main/250411.ipynb\" target=\"_parent\"><img src=\"https://colab.research.google.com/assets/colab-badge.svg\" alt=\"Open In Colab\"/></a>"
      ]
    },
    {
      "cell_type": "code",
      "execution_count": 5,
      "metadata": {
        "colab": {
          "base_uri": "https://localhost:8080/"
        },
        "id": "rPbC94DgY9jh",
        "outputId": "75f59756-f94e-4a36-8d6f-d94885e16a77"
      },
      "outputs": [
        {
          "output_type": "stream",
          "name": "stdout",
          "text": [
            "여자\n"
          ]
        }
      ],
      "source": [
        "id = '250411-3111111'\n",
        "if id[7] == '3' :\n",
        "  print('남자')\n",
        "else :\n",
        "  print('여자')\n"
      ]
    },
    {
      "cell_type": "code",
      "source": [
        "s1 = input(\"문자열 : \")\n",
        "s2 = ''\n",
        "\n",
        "for i in range(len(s1)-1,-1,-1) :\n",
        "  s2 = s2 + s1[i]\n",
        "\n",
        "if s1 == s2 :\n",
        "  print ('회문')\n",
        "else :\n",
        "  print ('회문아님')"
      ],
      "metadata": {
        "colab": {
          "base_uri": "https://localhost:8080/"
        },
        "id": "jk6l4ujwiHE_",
        "outputId": "05cda90f-1f94-4dd9-f4b7-eccab5413dbf"
      },
      "execution_count": 8,
      "outputs": [
        {
          "output_type": "stream",
          "name": "stdout",
          "text": [
            "문자열 : adb\n",
            "회문아님\n"
          ]
        }
      ]
    },
    {
      "cell_type": "code",
      "source": [
        "s = '부산시 금정구'\n",
        "print(s.split())"
      ],
      "metadata": {
        "colab": {
          "base_uri": "https://localhost:8080/"
        },
        "id": "3N-YcmqEpLLE",
        "outputId": "e2b5c194-452d-4d35-f698-fd502fa6d1a3"
      },
      "execution_count": 10,
      "outputs": [
        {
          "output_type": "stream",
          "name": "stdout",
          "text": [
            "['부산시', '금정구']\n"
          ]
        }
      ]
    },
    {
      "cell_type": "code",
      "source": [
        "l = ['부산시', '금정구']\n",
        "print(''.join(l))\n",
        "\n"
      ],
      "metadata": {
        "colab": {
          "base_uri": "https://localhost:8080/"
        },
        "id": "C6PpsKjdpchE",
        "outputId": "446967d0-35e7-4d8d-a45b-56f5eb2cb31b"
      },
      "execution_count": 20,
      "outputs": [
        {
          "output_type": "stream",
          "name": "stdout",
          "text": [
            "부산시금정구\n"
          ]
        }
      ]
    },
    {
      "source": [
        "while True:\n",
        "    data = input(\"문자열을 입력하세요 : \")\n",
        "\n",
        "    if data.isalpha() == True:\n",
        "        print('다시')\n",
        "    elif data.isdigit() == True:\n",
        "        print('다시')\n",
        "    elif data.isalnum() == True :\n",
        "        print('문자숫자')\n",
        "        break"
      ],
      "cell_type": "code",
      "metadata": {
        "colab": {
          "base_uri": "https://localhost:8080/"
        },
        "id": "B_Wn71ZStzMi",
        "outputId": "bece761b-8407-44b7-ca42-7e9187811ccc"
      },
      "execution_count": 37,
      "outputs": [
        {
          "output_type": "stream",
          "name": "stdout",
          "text": [
            "문자열을 입력하세요 : 1\n",
            "다시\n",
            "문자열을 입력하세요 : ㅁ\n",
            "다시\n",
            "문자열을 입력하세요 : ㅁ1\n",
            "문자숫자\n"
          ]
        }
      ]
    },
    {
      "cell_type": "code",
      "source": [],
      "metadata": {
        "id": "JByJl7EuxRfr"
      },
      "execution_count": null,
      "outputs": []
    }
  ]
}