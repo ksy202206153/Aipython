{
  "nbformat": 4,
  "nbformat_minor": 0,
  "metadata": {
    "colab": {
      "provenance": [],
      "authorship_tag": "ABX9TyMtFN9LZu8aV9TTc8u/SSyk",
      "include_colab_link": true
    },
    "kernelspec": {
      "name": "python3",
      "display_name": "Python 3"
    },
    "language_info": {
      "name": "python"
    }
  },
  "cells": [
    {
      "cell_type": "markdown",
      "metadata": {
        "id": "view-in-github",
        "colab_type": "text"
      },
      "source": [
        "<a href=\"https://colab.research.google.com/github/ksy202206153/Aipython/blob/main/250404.ipynb\" target=\"_parent\"><img src=\"https://colab.research.google.com/assets/colab-badge.svg\" alt=\"Open In Colab\"/></a>"
      ]
    },
    {
      "cell_type": "code",
      "source": [
        "kind = input(\"온도 종류(섭씨 또는 화씨) : \")\n",
        "temp = int(input(kind + \"온도 :\"))\n",
        "\n",
        "if kind == '섭씨' :\n",
        "  print(f\"화씨온도{temp *9/5+32}\")\n",
        "else :\n",
        "  print(f\"섭씨온도{(temp-32)*5/9}\")"
      ],
      "metadata": {
        "colab": {
          "base_uri": "https://localhost:8080/"
        },
        "id": "ca0U7BEmQJqy",
        "outputId": "3927c446-221b-41cb-bec9-9a83698afb89"
      },
      "execution_count": 14,
      "outputs": [
        {
          "output_type": "stream",
          "name": "stdout",
          "text": [
            "온도 종류(섭씨 또는 화씨) : 섭씨\n",
            "섭씨온도 :20\n",
            "화씨온도68.0\n"
          ]
        }
      ]
    },
    {
      "cell_type": "code",
      "source": [
        "kind = input(\"온도 종류(섭씨 또는 화씨) : \")\n",
        "temp = int(input(kind + \"온도 :\"))\n",
        "fah = temp *9/5+32\n",
        "cel = (temp-32)*5/9\n",
        "if kind == '섭씨' :\n",
        "  print(\"화씨 : %.2f \"% (fah))\n",
        "else :\n",
        "  print(\"섭씨 : %.2f \"% (cel))"
      ],
      "metadata": {
        "colab": {
          "base_uri": "https://localhost:8080/"
        },
        "id": "UC509nHlbCXk",
        "outputId": "96ddf47b-d194-4241-a327-12a108458e55"
      },
      "execution_count": 27,
      "outputs": [
        {
          "output_type": "stream",
          "name": "stdout",
          "text": [
            "온도 종류(섭씨 또는 화씨) : 화씨\n",
            "화씨온도 :68\n",
            "섭씨 : 20.00 \n"
          ]
        }
      ]
    },
    {
      "cell_type": "code",
      "execution_count": 33,
      "metadata": {
        "colab": {
          "base_uri": "https://localhost:8080/"
        },
        "id": "9W7M7AQ1OwVO",
        "outputId": "6af363de-ea9f-410e-a29d-25e302370fde"
      },
      "outputs": [
        {
          "output_type": "stream",
          "name": "stdout",
          "text": [
            "1부터 100까지 수 하나를 정했습니다.\n",
            "이 숫자를 맞춰보세요\n",
            "83\n",
            "1~100 숫자 입력 : 50\n",
            "50보다 큽니다.\n",
            "1~100 숫자 입력 : 70\n",
            "70보다 큽니다.\n",
            "1~100 숫자 입력 : 80\n",
            "80보다 큽니다.\n",
            "1~100 숫자 입력 : 85\n",
            "85보다 작습니다.\n",
            "1~100 숫자 입력 : 82\n",
            "82보다 큽니다.\n",
            "1~100 숫자 입력 : 83\n",
            "정답입니다.6회 만에 맞혔습니다.\n"
          ]
        }
      ],
      "source": [
        "import random\n",
        "\n",
        "print(\"1부터 100까지 수 하나를 정했습니다.\")\n",
        "print(\"이 숫자를 맞춰보세요\")\n",
        "\n",
        "answer = random.randint(1,100)\n",
        "times = 0\n",
        "\n",
        "while True :\n",
        "  user = int(input(\"1~100 숫자 입력 : \"))\n",
        "  times += 1\n",
        "\n",
        "  if user == answer :\n",
        "    break\n",
        "  elif user < answer :\n",
        "    print(f\"{user}보다 큽니다.\")\n",
        "  else :\n",
        "    print(f\"{user}보다 작습니다.\")\n",
        "\n",
        "print(f\"정답입니다.{times}회 만에 맞혔습니다.\")"
      ]
    },
    {
      "cell_type": "code",
      "source": [
        "import random\n",
        "\n",
        "list = []\n",
        "for i in range(1, 7):\n",
        "  num = random.randint(1,45)\n",
        "  list.append(num)\n",
        "print(list)"
      ],
      "metadata": {
        "colab": {
          "base_uri": "https://localhost:8080/"
        },
        "id": "4C85JjwsczFU",
        "outputId": "38860df0-dfc1-4ada-875b-4e5b07c38ca3"
      },
      "execution_count": 38,
      "outputs": [
        {
          "output_type": "stream",
          "name": "stdout",
          "text": [
            "[40, 45, 17, 41, 7, 34]\n"
          ]
        }
      ]
    },
    {
      "cell_type": "code",
      "source": [
        "성적 = [85, 92, 78, 90, 87]\n",
        "\n",
        "평균 = sum(성적)/len(성적)\n",
        "print(평균)"
      ],
      "metadata": {
        "colab": {
          "base_uri": "https://localhost:8080/"
        },
        "id": "UK8JSEKitLch",
        "outputId": "3367dc05-7d36-43de-8095-01bbd6176545"
      },
      "execution_count": 52,
      "outputs": [
        {
          "output_type": "stream",
          "name": "stdout",
          "text": [
            "86.4\n"
          ]
        }
      ]
    },
    {
      "cell_type": "code",
      "source": [
        "성적 = [85, 92, 78, 90, 87]\n",
        "총합 = 0\n",
        "항목수 = 0\n",
        "평균 = 0\n",
        "\n",
        "for 점수 in 성적 :\n",
        "  총합 += 점수\n",
        "  항목수 += 1\n",
        "평균 = 총합/항목수\n",
        "print(평균)"
      ],
      "metadata": {
        "colab": {
          "base_uri": "https://localhost:8080/"
        },
        "id": "h4mVVxQQuVuh",
        "outputId": "74926f6f-fa56-41ef-b3d4-394c818e17ee"
      },
      "execution_count": 53,
      "outputs": [
        {
          "output_type": "stream",
          "name": "stdout",
          "text": [
            "86.4\n"
          ]
        }
      ]
    },
    {
      "cell_type": "code",
      "source": [
        "학생들 = [(\"철수\", 85), (\"영희\", 92), (\"민수\", 65), (\"지영\", 78)]\n",
        "합격자 = []\n",
        "\n",
        "for 학생, 점수 in 학생들:\n",
        "    if 점수 >= 70:\n",
        "        합격자.append(학생)\n",
        "\n",
        "print(합격자)  # ['철수', '영희', '지영']"
      ],
      "metadata": {
        "colab": {
          "base_uri": "https://localhost:8080/"
        },
        "id": "UZxtJQS1wCpB",
        "outputId": "7173a2dc-ba6b-45b0-8772-aecf305e53e5"
      },
      "execution_count": 54,
      "outputs": [
        {
          "output_type": "stream",
          "name": "stdout",
          "text": [
            "['철수', '영희', '지영']\n"
          ]
        }
      ]
    },
    {
      "cell_type": "code",
      "source": [
        "fruit = [\"사과\", \"포도\", \"바나나\"]\n",
        "first_fruit = fruit[0]\n",
        "print(f\"첫 과일 : first_fruit\")\n",
        "\n",
        "last_fruit = fruit[-1]\n",
        "print(f\"마지막 과일 : last_fruit\")"
      ],
      "metadata": {
        "colab": {
          "base_uri": "https://localhost:8080/"
        },
        "id": "7dbaMXa_wNQJ",
        "outputId": "2c8e628c-479b-400c-a765-758cbd8a1d38"
      },
      "execution_count": 55,
      "outputs": [
        {
          "output_type": "stream",
          "name": "stdout",
          "text": [
            "첫 과일 : first_fruit\n",
            "마지막 과일 : last_fruit\n"
          ]
        }
      ]
    },
    {
      "cell_type": "code",
      "source": [
        "fruit = [\"사과\", \"포도\", \"바나나\"]\n",
        "fruit.append(\"오렌지\")\n",
        "fruit.remove(\"바나나\")\n",
        "print(fruit)"
      ],
      "metadata": {
        "colab": {
          "base_uri": "https://localhost:8080/"
        },
        "id": "uoeFNU4UxUW7",
        "outputId": "db295bf0-d0b1-4bda-c369-a75b3fa69349"
      },
      "execution_count": 58,
      "outputs": [
        {
          "output_type": "stream",
          "name": "stdout",
          "text": [
            "['사과', '포도', '오렌지']\n"
          ]
        }
      ]
    },
    {
      "cell_type": "code",
      "source": [
        "numbers = [1, 3, 7, 10, 13]\n",
        "for i in numbers :\n",
        "  print(i)"
      ],
      "metadata": {
        "colab": {
          "base_uri": "https://localhost:8080/"
        },
        "id": "8OJfq0AcxpNy",
        "outputId": "3bda52d8-bac5-45b5-a1f5-5b6dfdc1dde0"
      },
      "execution_count": 59,
      "outputs": [
        {
          "output_type": "stream",
          "name": "stdout",
          "text": [
            "1\n",
            "3\n",
            "7\n",
            "10\n",
            "13\n"
          ]
        }
      ]
    },
    {
      "cell_type": "code",
      "source": [
        "colors = [\"red\", \"green\", \"blue\" ]\n",
        "colors[1] = \"yellow\"\n",
        "print(colors)"
      ],
      "metadata": {
        "colab": {
          "base_uri": "https://localhost:8080/"
        },
        "id": "76JXmx4DyOTq",
        "outputId": "274ae4cf-daaf-4b44-e7a6-cab94992afc5"
      },
      "execution_count": 60,
      "outputs": [
        {
          "output_type": "stream",
          "name": "stdout",
          "text": [
            "['red', 'yellow', 'blue']\n"
          ]
        }
      ]
    },
    {
      "cell_type": "code",
      "source": [
        "list1 = [1, 2, 3]\n",
        "list2 = [4, 5, 6]\n",
        "combine_list =list1 + list2\n",
        "print(combine_list)\n",
        "\n",
        "list1.extend(list2)\n",
        "print(list1)"
      ],
      "metadata": {
        "colab": {
          "base_uri": "https://localhost:8080/"
        },
        "id": "pfIr0lKCymSi",
        "outputId": "aef3923d-fe59-4ac9-ebb9-0ce7bff8cb29"
      },
      "execution_count": 63,
      "outputs": [
        {
          "output_type": "stream",
          "name": "stdout",
          "text": [
            "[1, 2, 3, 4, 5, 6]\n",
            "[1, 2, 3, 4, 5, 6]\n"
          ]
        }
      ]
    },
    {
      "cell_type": "code",
      "source": [],
      "metadata": {
        "id": "O_C84ysGy0_x"
      },
      "execution_count": null,
      "outputs": []
    }
  ]
}