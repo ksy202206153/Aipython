{
  "nbformat": 4,
  "nbformat_minor": 0,
  "metadata": {
    "colab": {
      "provenance": [],
      "authorship_tag": "ABX9TyM1VE+qpxZ8cZwYIsVrqR+0",
      "include_colab_link": true
    },
    "kernelspec": {
      "name": "python3",
      "display_name": "Python 3"
    },
    "language_info": {
      "name": "python"
    }
  },
  "cells": [
    {
      "cell_type": "markdown",
      "metadata": {
        "id": "view-in-github",
        "colab_type": "text"
      },
      "source": [
        "<a href=\"https://colab.research.google.com/github/ksy202206153/Aipython/blob/main/250328.ipynb\" target=\"_parent\"><img src=\"https://colab.research.google.com/assets/colab-badge.svg\" alt=\"Open In Colab\"/></a>"
      ]
    },
    {
      "cell_type": "code",
      "execution_count": 10,
      "metadata": {
        "colab": {
          "base_uri": "https://localhost:8080/"
        },
        "id": "LBR90UNVSpj7",
        "outputId": "c7082f12-7a2e-422b-dc0c-3de657498db6"
      },
      "outputs": [
        {
          "output_type": "stream",
          "name": "stdout",
          "text": [
            "첫 번째 정수를 입력하세요3.5\n",
            "두 번째 정수를 입력하세요3\n",
            "유효한 정수를 입력하세요\n"
          ]
        }
      ],
      "source": [
        "num1_str = input(\"첫 번째 정수를 입력하세요\")\n",
        "num2_str = input(\"두 번째 정수를 입력하세요\")\n",
        "try :\n",
        "  num1 = int(num1_str)\n",
        "  num2 = int(num2_str)\n",
        "\n",
        "  if num1 > num2 :\n",
        "    print(f\"{num1}은 {num2}보다 큽니다\")\n",
        "  elif num1 < num2 :\n",
        "    print(f\"{num1}은 {num2}보다 작습니다\")\n",
        "  else :\n",
        "    print(f\"{num1}은 {num2}와 같습니다\")\n",
        "\n",
        "except ValueError:\n",
        "    print(\"유효한 정수를 입력하세요\")\n",
        "\n",
        "\n"
      ]
    },
    {
      "cell_type": "code",
      "source": [
        "num1_str = input(\"첫 번째 정수를 입력하세요\")\n",
        "num2_str = input(\"두 번째 정수를 입력하세요\")\n",
        "\n",
        "num1 = int(num1_str)\n",
        "num2 = int(num2_str)\n",
        "\n",
        "if num1 > num2 :\n",
        "  print(f\"{num1}은 {num2}보다 큽니다\")\n",
        "elif num1 < num2 :\n",
        "    print(f\"{num1}은 {num2}보다 작습니다\")\n",
        "else :\n",
        "  print(f\"{num1}은 {num2}와 같습니다\")\n",
        "\n",
        "\n",
        "\n",
        "\n"
      ],
      "metadata": {
        "colab": {
          "base_uri": "https://localhost:8080/"
        },
        "id": "w166LahCXWQu",
        "outputId": "08195129-f28c-4325-db7b-0a494953d85f"
      },
      "execution_count": 9,
      "outputs": [
        {
          "output_type": "stream",
          "name": "stdout",
          "text": [
            "첫 번째 정수를 입력하세요3\n",
            "두 번째 정수를 입력하세요6\n",
            "3은 6보다 작습니다\n"
          ]
        }
      ]
    },
    {
      "cell_type": "code",
      "source": [
        "num1 = int(input(\"첫 번째 정수를 입력하세요\"))\n",
        "num2 = int(input(\"두 번째 정수를 입력하세요\"))\n",
        "num3 = int(input(\"세 번째 정수를 입력하세요\"))\n",
        "\n",
        "max_num = num1\n",
        "if max_num < num2 :\n",
        "  max_num = num2\n",
        "if max_num < num3 :\n",
        "  max_num = num3\n",
        "print(f\"{num1},{num2}.{num3}중에서 {max_num}이 가장 큰 수 입니다.\")\n"
      ],
      "metadata": {
        "colab": {
          "base_uri": "https://localhost:8080/"
        },
        "id": "JVT_ceT3XvP1",
        "outputId": "f71ae5f1-f054-4f3e-a4da-bf90bfc319b1"
      },
      "execution_count": 28,
      "outputs": [
        {
          "output_type": "stream",
          "name": "stdout",
          "text": [
            "첫 번째 정수를 입력하세요2\n",
            "두 번째 정수를 입력하세요111\n",
            "세 번째 정수를 입력하세요33\n",
            "2,111.33중에서 111이 가장 큰 수 입니다.\n"
          ]
        }
      ]
    },
    {
      "cell_type": "code",
      "source": [
        "score_str = input(\"시험 점수 (0부터 100 사이의 정수)를 입력하시오\")\n",
        "\n",
        "try :\n",
        "  score = int(score_str)\n",
        "  if 0 < score <= 100 :\n",
        "    if score >= 90 :\n",
        "      grade = 'A'\n",
        "    elif 80<= score <90 :\n",
        "      grade = 'B'\n",
        "    elif 70 <= score < 80 :\n",
        "      grade = 'C'\n",
        "    elif 60 <= score < 70 :\n",
        "      grade = 'D'\n",
        "    else :\n",
        "      grade = 'F'\n",
        "    print(f\"당신의 학점은 {grade}입니다.\")\n",
        "  else :\n",
        "   print(\"0~100사이의 정수를 입력하세요\")\n",
        "except ValueError :\n",
        "  print(\"유효한 정수를 입력하세요\")\n"
      ],
      "metadata": {
        "colab": {
          "base_uri": "https://localhost:8080/"
        },
        "id": "NvZHIOzTcIEO",
        "outputId": "36cb7a54-1818-4c32-dae1-8513fb742d28"
      },
      "execution_count": 38,
      "outputs": [
        {
          "output_type": "stream",
          "name": "stdout",
          "text": [
            "시험 점수 (0부터 100 사이의 정수)를 입력하시오123\n",
            "0~100사이의 정수를 입력하세요\n"
          ]
        }
      ]
    },
    {
      "cell_type": "code",
      "source": [
        "year = int(input(\"연도를 입력하세요 :\"))\n",
        "if (year % 4 == 0 and year % 100 != 0) or (year%400 == 0) :\n",
        "  print(f\"{year}년은 윤년입니다\")\n",
        "else :\n",
        "  print(f\"{year}년은 윤년이 아닙니다\")"
      ],
      "metadata": {
        "colab": {
          "base_uri": "https://localhost:8080/"
        },
        "id": "Bx0zF1uldnmG",
        "outputId": "2bdc6112-ce7b-4936-ef6b-2a4638cab460"
      },
      "execution_count": 46,
      "outputs": [
        {
          "output_type": "stream",
          "name": "stdout",
          "text": [
            "연도를 입력하세요 :2028\n",
            "2028년은 윤년입니다\n"
          ]
        }
      ]
    },
    {
      "cell_type": "code",
      "source": [
        "for i in range(1,10,2) :\n",
        " print(i)"
      ],
      "metadata": {
        "colab": {
          "base_uri": "https://localhost:8080/"
        },
        "id": "nHkZYiACgQEn",
        "outputId": "1b204176-418b-452c-9e90-848c54819f15"
      },
      "execution_count": 65,
      "outputs": [
        {
          "output_type": "stream",
          "name": "stdout",
          "text": [
            "1\n",
            "3\n",
            "5\n",
            "7\n",
            "9\n"
          ]
        }
      ]
    },
    {
      "cell_type": "code",
      "source": [
        "count = 0\n",
        "while count <3 :\n",
        "  print(count)\n",
        "  count += 1"
      ],
      "metadata": {
        "colab": {
          "base_uri": "https://localhost:8080/"
        },
        "id": "nxRRvk7klpK5",
        "outputId": "6ee25ab1-9057-4181-852f-bcd748e4f393"
      },
      "execution_count": 63,
      "outputs": [
        {
          "output_type": "stream",
          "name": "stdout",
          "text": [
            "0\n",
            "1\n",
            "2\n"
          ]
        }
      ]
    },
    {
      "cell_type": "code",
      "source": [
        "n = int(input(\"양의 정수 N을 입력하세요\"))\n",
        "if n <=0 :\n",
        "  print(\"양의 정수를 입력하세요\")\n",
        "else :\n",
        "  sum = 0\n",
        "  for i in range (1, n + 1) :\n",
        "    sum += i\n",
        "  print(f\"1부터 {n}까지 정수의 합은 {sum}입니다.\")"
      ],
      "metadata": {
        "colab": {
          "base_uri": "https://localhost:8080/"
        },
        "id": "mcE5yWZdoF02",
        "outputId": "af4ade66-abe3-49b8-86c2-6056d7065160"
      },
      "execution_count": 79,
      "outputs": [
        {
          "output_type": "stream",
          "name": "stdout",
          "text": [
            "양의 정수 N을 입력하세요3\n",
            "1부터 3까지 정수의 합은 6입니다.\n"
          ]
        }
      ]
    },
    {
      "cell_type": "code",
      "source": [
        "count = 0\n",
        "print(\"0부터 9까지 출력:\")\n",
        "while count < 10 :\n",
        "  print(count)\n",
        "  count += 1\n",
        "print(\"while 루프 종료\")"
      ],
      "metadata": {
        "colab": {
          "base_uri": "https://localhost:8080/"
        },
        "id": "EKQNDGpZqHpn",
        "outputId": "36c567a9-5351-4406-85b9-5b2a4681b436"
      },
      "execution_count": 88,
      "outputs": [
        {
          "output_type": "stream",
          "name": "stdout",
          "text": [
            "0부터 9까지 출력:\n",
            "0\n",
            "1\n",
            "2\n",
            "3\n",
            "4\n",
            "5\n",
            "6\n",
            "7\n",
            "8\n",
            "9\n",
            "while 루프 종료\n"
          ]
        }
      ]
    },
    {
      "cell_type": "code",
      "source": [
        "print(\"0부터 9까지 출력:\")\n",
        "for i in range(10) :\n",
        "  print(i)\n",
        "print(\"for 루프 종료\")"
      ],
      "metadata": {
        "colab": {
          "base_uri": "https://localhost:8080/"
        },
        "id": "04DztNF1sI2H",
        "outputId": "6c03cdb7-1d2b-4646-bc69-6b4a2eba17af"
      },
      "execution_count": 85,
      "outputs": [
        {
          "output_type": "stream",
          "name": "stdout",
          "text": [
            "0부터 9까지 출력\n",
            "0\n",
            "1\n",
            "2\n",
            "3\n",
            "4\n",
            "5\n",
            "6\n",
            "7\n",
            "8\n",
            "9\n",
            "for 루프 종료\n"
          ]
        }
      ]
    },
    {
      "cell_type": "code",
      "source": [],
      "metadata": {
        "id": "TGOjOJi6sbVP"
      },
      "execution_count": null,
      "outputs": []
    }
  ]
}